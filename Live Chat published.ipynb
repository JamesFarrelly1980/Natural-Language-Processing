{
 "cells": [
  {
   "cell_type": "markdown",
   "metadata": {},
   "source": [
    "# Live Chat\n",
    "\n",
    "In this we'll have a first look at live chat. We will just be considering the data on October as a starting point to get a handle on the data \n",
    "\n",
    "A start is to look at when a conversation is rated as good or not.  Some basic metrics could be Chat duration, average response time and Operator.  We can see if this is in any way linked to weather or not the chat was rated as good.\n",
    "\n",
    "We will look at the following charts as part of our initial analysis\n",
    "* The distribution of the length of conversation (using a histogram)\n",
    "* the distribution of the good vs not rate conversations using length of conversation\n",
    "* the distribution of the good vs not rate conversations using average response\n",
    "* the distribution of the good vs not rate conversations using first response time\n",
    "In the last three of these distributions we will look at whether or not the difference in the means is statistically significant using a hypothesis test\n",
    "\n",
    "We will then do a break down by agent to see if the proportion of good vs not rated chats.  In this we will look at \n",
    "* A stacked bar chart by value \n",
    "* A stacked bar chart by percentage\n",
    "\n",
    "I have also included the data set in the github page so you can rerun the numbers for yourself.\n",
    "\n",
    "\n",
    "\n",
    "\n"
   ]
  },
  {
   "cell_type": "markdown",
   "metadata": {},
   "source": [
    "Future thoughts:\n",
    "The next step will them be to match these records to the actual text of the conversation and try, probably all three methods of either Count Vectoriser, TfidfVectorizer and HashingVectorizer (or maybe use Facebooks fast text)and then run them through a machine learning algorithm to see what they produce.  I'm not sure which one's yet but we'll get there.\n",
    "\n"
   ]
  },
  {
   "cell_type": "markdown",
   "metadata": {},
   "source": [
    "# Imports and creating the dataframe\n",
    "\n",
    "Let's import some classes and then create our dataframe in pandas."
   ]
  },
  {
   "cell_type": "code",
   "execution_count": 5,
   "metadata": {},
   "outputs": [
    {
     "data": {
      "text/html": [
       "<div>\n",
       "<style scoped>\n",
       "    .dataframe tbody tr th:only-of-type {\n",
       "        vertical-align: middle;\n",
       "    }\n",
       "\n",
       "    .dataframe tbody tr th {\n",
       "        vertical-align: top;\n",
       "    }\n",
       "\n",
       "    .dataframe thead th {\n",
       "        text-align: right;\n",
       "    }\n",
       "</style>\n",
       "<table border=\"1\" class=\"dataframe\">\n",
       "  <thead>\n",
       "    <tr style=\"text-align: right;\">\n",
       "      <th></th>\n",
       "      <th>conferenceId</th>\n",
       "      <th>chat creation date Europe/London</th>\n",
       "      <th>chat start date Europe/London</th>\n",
       "      <th>chat duration in seconds</th>\n",
       "      <th>queue duration in seconds</th>\n",
       "      <th>rate</th>\n",
       "      <th>operator 1 nick</th>\n",
       "      <th>first response time</th>\n",
       "      <th>average response time</th>\n",
       "    </tr>\n",
       "  </thead>\n",
       "  <tbody>\n",
       "    <tr>\n",
       "      <th>0</th>\n",
       "      <td>PFWWMRWSUQ</td>\n",
       "      <td>2018-10-01 08:12:00</td>\n",
       "      <td>2018-10-01 08:12:00</td>\n",
       "      <td>595</td>\n",
       "      <td>NaN</td>\n",
       "      <td>not rated</td>\n",
       "      <td>Ellie</td>\n",
       "      <td>35.0</td>\n",
       "      <td>37.0</td>\n",
       "    </tr>\n",
       "    <tr>\n",
       "      <th>1</th>\n",
       "      <td>PFXWSSVIXS</td>\n",
       "      <td>2018-10-01 08:31:00</td>\n",
       "      <td>2018-10-01 08:31:00</td>\n",
       "      <td>45</td>\n",
       "      <td>NaN</td>\n",
       "      <td>not rated</td>\n",
       "      <td>Ellie</td>\n",
       "      <td>NaN</td>\n",
       "      <td>NaN</td>\n",
       "    </tr>\n",
       "    <tr>\n",
       "      <th>2</th>\n",
       "      <td>PFYWKS8Y9W</td>\n",
       "      <td>2018-10-01 08:32:00</td>\n",
       "      <td>2018-10-01 08:32:00</td>\n",
       "      <td>182</td>\n",
       "      <td>NaN</td>\n",
       "      <td>not rated</td>\n",
       "      <td>Ellie</td>\n",
       "      <td>26.0</td>\n",
       "      <td>26.0</td>\n",
       "    </tr>\n",
       "    <tr>\n",
       "      <th>3</th>\n",
       "      <td>PFZWPTLQTY</td>\n",
       "      <td>2018-10-01 08:49:00</td>\n",
       "      <td>2018-10-01 08:49:00</td>\n",
       "      <td>103</td>\n",
       "      <td>NaN</td>\n",
       "      <td>not rated</td>\n",
       "      <td>Ellie</td>\n",
       "      <td>10.0</td>\n",
       "      <td>8.0</td>\n",
       "    </tr>\n",
       "    <tr>\n",
       "      <th>4</th>\n",
       "      <td>PF2W3VWLQ4</td>\n",
       "      <td>2018-10-01 09:29:00</td>\n",
       "      <td>2018-10-01 09:29:00</td>\n",
       "      <td>127</td>\n",
       "      <td>NaN</td>\n",
       "      <td>not rated</td>\n",
       "      <td>Ellie</td>\n",
       "      <td>7.0</td>\n",
       "      <td>11.0</td>\n",
       "    </tr>\n",
       "  </tbody>\n",
       "</table>\n",
       "</div>"
      ],
      "text/plain": [
       "  conferenceId chat creation date Europe/London chat start date Europe/London  chat duration in seconds  queue duration in seconds       rate operator 1 nick  first response time  average response time\n",
       "0   PFWWMRWSUQ              2018-10-01 08:12:00           2018-10-01 08:12:00                       595                        NaN  not rated           Ellie                 35.0                   37.0\n",
       "1   PFXWSSVIXS              2018-10-01 08:31:00           2018-10-01 08:31:00                        45                        NaN  not rated           Ellie                  NaN                    NaN\n",
       "2   PFYWKS8Y9W              2018-10-01 08:32:00           2018-10-01 08:32:00                       182                        NaN  not rated           Ellie                 26.0                   26.0\n",
       "3   PFZWPTLQTY              2018-10-01 08:49:00           2018-10-01 08:49:00                       103                        NaN  not rated           Ellie                 10.0                    8.0\n",
       "4   PF2W3VWLQ4              2018-10-01 09:29:00           2018-10-01 09:29:00                       127                        NaN  not rated           Ellie                  7.0                   11.0"
      ]
     },
     "execution_count": 5,
     "metadata": {},
     "output_type": "execute_result"
    }
   ],
   "source": [
    "#this will keep all our graphs in the page\n",
    "%matplotlib inline\n",
    "\n",
    "# a few libraries that we will need\n",
    "\n",
    "import numpy as np \n",
    "import scipy as sp\n",
    "import matplotlib as mpl\n",
    "import matplotlib.cm as cm\n",
    "import matplotlib.pyplot as plt\n",
    "import pandas as pd\n",
    "\n",
    "#set up pandas table display\n",
    "pd.set_option (\"display.width\", 500)\n",
    "pd.set_option (\"display.max_columns\", 100)\n",
    "pd.set_option (\"display.notebook_repr_html\", True)\n",
    "import seaborn as sns #gives us a bit more style in our plots\n",
    "\n",
    "#We need this to look at excel files\n",
    "import openpyxl\n",
    "\n",
    "from pandas import DataFrame, read_excel, merge\n",
    "import xlrd\n",
    "\n",
    "\n",
    "\n",
    "file_name = r\"C:\\Users\\Mrs Farrelly\\Documents\\James\\LiveChat\\chats_report_October18_appended.xlsx\"\n",
    "#table1 = chats_report_October18\n",
    "\n",
    "df_chats = pd.read_excel(file_name, header = 0)\n",
    "df_chats.head()\n",
    "\n",
    "\n",
    "\n",
    "\n",
    "#lets create a dataframe using out chats_report_October18.xlsx\n",
    "#df_chats = pd.read_excel (file_name, sheet_name = table1, header = 0)"
   ]
  },
  {
   "cell_type": "code",
   "execution_count": 6,
   "metadata": {},
   "outputs": [
    {
     "name": "stdout",
     "output_type": "stream",
     "text": [
      "(1132, 9)\n"
     ]
    }
   ],
   "source": [
    "print (df_chats.shape)"
   ]
  },
  {
   "cell_type": "code",
   "execution_count": 7,
   "metadata": {},
   "outputs": [
    {
     "data": {
      "text/plain": [
       "['conferenceId',\n",
       " 'chat creation date Europe/London',\n",
       " 'chat start date Europe/London',\n",
       " 'chat duration in seconds',\n",
       " 'queue duration in seconds',\n",
       " 'rate',\n",
       " 'operator 1 nick',\n",
       " 'first response time',\n",
       " 'average response time']"
      ]
     },
     "execution_count": 7,
     "metadata": {},
     "output_type": "execute_result"
    }
   ],
   "source": [
    "\n",
    "#first we're going to need a list of column names\n",
    "list (df_chats.columns.values)\n"
   ]
  },
  {
   "cell_type": "markdown",
   "metadata": {},
   "source": [
    "### Cleaning up the dataframe "
   ]
  },
  {
   "cell_type": "code",
   "execution_count": 8,
   "metadata": {},
   "outputs": [],
   "source": [
    "#gapminder_ocean.drop(['pop'], axis=1)\n",
    "#Okay lets get rid of a few of the columns we wont need\n",
    "df_cleanchats = df_chats.drop (['chat creation date Europe/London'\n",
    " ], axis = 1)                              "
   ]
  },
  {
   "cell_type": "code",
   "execution_count": 9,
   "metadata": {},
   "outputs": [
    {
     "data": {
      "text/html": [
       "<div>\n",
       "<style scoped>\n",
       "    .dataframe tbody tr th:only-of-type {\n",
       "        vertical-align: middle;\n",
       "    }\n",
       "\n",
       "    .dataframe tbody tr th {\n",
       "        vertical-align: top;\n",
       "    }\n",
       "\n",
       "    .dataframe thead th {\n",
       "        text-align: right;\n",
       "    }\n",
       "</style>\n",
       "<table border=\"1\" class=\"dataframe\">\n",
       "  <thead>\n",
       "    <tr style=\"text-align: right;\">\n",
       "      <th></th>\n",
       "      <th>conferenceId</th>\n",
       "      <th>chat start date Europe/London</th>\n",
       "      <th>chat duration in seconds</th>\n",
       "      <th>queue duration in seconds</th>\n",
       "      <th>rate</th>\n",
       "      <th>operator 1 nick</th>\n",
       "      <th>first response time</th>\n",
       "      <th>average response time</th>\n",
       "    </tr>\n",
       "  </thead>\n",
       "  <tbody>\n",
       "    <tr>\n",
       "      <th>0</th>\n",
       "      <td>PFWWMRWSUQ</td>\n",
       "      <td>2018-10-01 08:12:00</td>\n",
       "      <td>595</td>\n",
       "      <td>NaN</td>\n",
       "      <td>not rated</td>\n",
       "      <td>Ellie</td>\n",
       "      <td>35.0</td>\n",
       "      <td>37.0</td>\n",
       "    </tr>\n",
       "    <tr>\n",
       "      <th>1</th>\n",
       "      <td>PFXWSSVIXS</td>\n",
       "      <td>2018-10-01 08:31:00</td>\n",
       "      <td>45</td>\n",
       "      <td>NaN</td>\n",
       "      <td>not rated</td>\n",
       "      <td>Ellie</td>\n",
       "      <td>NaN</td>\n",
       "      <td>NaN</td>\n",
       "    </tr>\n",
       "    <tr>\n",
       "      <th>2</th>\n",
       "      <td>PFYWKS8Y9W</td>\n",
       "      <td>2018-10-01 08:32:00</td>\n",
       "      <td>182</td>\n",
       "      <td>NaN</td>\n",
       "      <td>not rated</td>\n",
       "      <td>Ellie</td>\n",
       "      <td>26.0</td>\n",
       "      <td>26.0</td>\n",
       "    </tr>\n",
       "    <tr>\n",
       "      <th>3</th>\n",
       "      <td>PFZWPTLQTY</td>\n",
       "      <td>2018-10-01 08:49:00</td>\n",
       "      <td>103</td>\n",
       "      <td>NaN</td>\n",
       "      <td>not rated</td>\n",
       "      <td>Ellie</td>\n",
       "      <td>10.0</td>\n",
       "      <td>8.0</td>\n",
       "    </tr>\n",
       "    <tr>\n",
       "      <th>4</th>\n",
       "      <td>PF2W3VWLQ4</td>\n",
       "      <td>2018-10-01 09:29:00</td>\n",
       "      <td>127</td>\n",
       "      <td>NaN</td>\n",
       "      <td>not rated</td>\n",
       "      <td>Ellie</td>\n",
       "      <td>7.0</td>\n",
       "      <td>11.0</td>\n",
       "    </tr>\n",
       "    <tr>\n",
       "      <th>5</th>\n",
       "      <td>PF2WWWZ68I</td>\n",
       "      <td>2018-10-01 09:42:00</td>\n",
       "      <td>176</td>\n",
       "      <td>NaN</td>\n",
       "      <td>not rated</td>\n",
       "      <td>Ellie</td>\n",
       "      <td>31.0</td>\n",
       "      <td>15.0</td>\n",
       "    </tr>\n",
       "    <tr>\n",
       "      <th>6</th>\n",
       "      <td>PF1WGV52RM</td>\n",
       "      <td>2018-10-01 09:43:00</td>\n",
       "      <td>152</td>\n",
       "      <td>NaN</td>\n",
       "      <td>not rated</td>\n",
       "      <td>Ellie</td>\n",
       "      <td>45.0</td>\n",
       "      <td>35.0</td>\n",
       "    </tr>\n",
       "    <tr>\n",
       "      <th>7</th>\n",
       "      <td>PF3WWWVVJS</td>\n",
       "      <td>2018-10-01 09:57:00</td>\n",
       "      <td>566</td>\n",
       "      <td>NaN</td>\n",
       "      <td>not rated</td>\n",
       "      <td>Ellie</td>\n",
       "      <td>23.0</td>\n",
       "      <td>17.0</td>\n",
       "    </tr>\n",
       "    <tr>\n",
       "      <th>8</th>\n",
       "      <td>PF3WNW3O1G</td>\n",
       "      <td>2018-10-01 09:58:00</td>\n",
       "      <td>1224</td>\n",
       "      <td>NaN</td>\n",
       "      <td>rated good</td>\n",
       "      <td>Ellie</td>\n",
       "      <td>23.0</td>\n",
       "      <td>17.0</td>\n",
       "    </tr>\n",
       "    <tr>\n",
       "      <th>9</th>\n",
       "      <td>PF5WVYY2FK</td>\n",
       "      <td>2018-10-01 10:30:00</td>\n",
       "      <td>630</td>\n",
       "      <td>NaN</td>\n",
       "      <td>rated good</td>\n",
       "      <td>Ellie</td>\n",
       "      <td>16.0</td>\n",
       "      <td>20.0</td>\n",
       "    </tr>\n",
       "  </tbody>\n",
       "</table>\n",
       "</div>"
      ],
      "text/plain": [
       "  conferenceId chat start date Europe/London  chat duration in seconds  queue duration in seconds        rate operator 1 nick  first response time  average response time\n",
       "0   PFWWMRWSUQ           2018-10-01 08:12:00                       595                        NaN   not rated           Ellie                 35.0                   37.0\n",
       "1   PFXWSSVIXS           2018-10-01 08:31:00                        45                        NaN   not rated           Ellie                  NaN                    NaN\n",
       "2   PFYWKS8Y9W           2018-10-01 08:32:00                       182                        NaN   not rated           Ellie                 26.0                   26.0\n",
       "3   PFZWPTLQTY           2018-10-01 08:49:00                       103                        NaN   not rated           Ellie                 10.0                    8.0\n",
       "4   PF2W3VWLQ4           2018-10-01 09:29:00                       127                        NaN   not rated           Ellie                  7.0                   11.0\n",
       "5   PF2WWWZ68I           2018-10-01 09:42:00                       176                        NaN   not rated           Ellie                 31.0                   15.0\n",
       "6   PF1WGV52RM           2018-10-01 09:43:00                       152                        NaN   not rated           Ellie                 45.0                   35.0\n",
       "7   PF3WWWVVJS           2018-10-01 09:57:00                       566                        NaN   not rated           Ellie                 23.0                   17.0\n",
       "8   PF3WNW3O1G           2018-10-01 09:58:00                      1224                        NaN  rated good           Ellie                 23.0                   17.0\n",
       "9   PF5WVYY2FK           2018-10-01 10:30:00                       630                        NaN  rated good           Ellie                 16.0                   20.0"
      ]
     },
     "execution_count": 9,
     "metadata": {},
     "output_type": "execute_result"
    }
   ],
   "source": [
    "#Okay lets have a look\n",
    "\n",
    "df_cleanchats.head(10)"
   ]
  },
  {
   "cell_type": "code",
   "execution_count": 10,
   "metadata": {},
   "outputs": [
    {
     "name": "stdout",
     "output_type": "stream",
     "text": [
      "(1132, 8)\n"
     ]
    }
   ],
   "source": [
    "print (df_cleanchats.shape)"
   ]
  },
  {
   "cell_type": "markdown",
   "metadata": {},
   "source": [
    "## Analysis\n",
    "\n",
    "### Length of conversation"
   ]
  },
  {
   "cell_type": "markdown",
   "metadata": {},
   "source": [
    "Okay, lets have a look at the shape of the chat duration"
   ]
  },
  {
   "cell_type": "code",
   "execution_count": 11,
   "metadata": {},
   "outputs": [
    {
     "data": {
      "text/html": [
       "<div>\n",
       "<style scoped>\n",
       "    .dataframe tbody tr th:only-of-type {\n",
       "        vertical-align: middle;\n",
       "    }\n",
       "\n",
       "    .dataframe tbody tr th {\n",
       "        vertical-align: top;\n",
       "    }\n",
       "\n",
       "    .dataframe thead th {\n",
       "        text-align: right;\n",
       "    }\n",
       "</style>\n",
       "<table border=\"1\" class=\"dataframe\">\n",
       "  <thead>\n",
       "    <tr style=\"text-align: right;\">\n",
       "      <th></th>\n",
       "      <th>chat duration in seconds</th>\n",
       "      <th>queue duration in seconds</th>\n",
       "      <th>first response time</th>\n",
       "      <th>average response time</th>\n",
       "    </tr>\n",
       "  </thead>\n",
       "  <tbody>\n",
       "    <tr>\n",
       "      <th>count</th>\n",
       "      <td>1132.000000</td>\n",
       "      <td>255.000000</td>\n",
       "      <td>1032.000000</td>\n",
       "      <td>1032.000000</td>\n",
       "    </tr>\n",
       "    <tr>\n",
       "      <th>mean</th>\n",
       "      <td>513.778269</td>\n",
       "      <td>154.156863</td>\n",
       "      <td>26.203488</td>\n",
       "      <td>26.840116</td>\n",
       "    </tr>\n",
       "    <tr>\n",
       "      <th>std</th>\n",
       "      <td>437.419601</td>\n",
       "      <td>193.553262</td>\n",
       "      <td>31.195346</td>\n",
       "      <td>22.549022</td>\n",
       "    </tr>\n",
       "    <tr>\n",
       "      <th>min</th>\n",
       "      <td>1.000000</td>\n",
       "      <td>1.000000</td>\n",
       "      <td>0.000000</td>\n",
       "      <td>1.000000</td>\n",
       "    </tr>\n",
       "    <tr>\n",
       "      <th>25%</th>\n",
       "      <td>228.000000</td>\n",
       "      <td>16.000000</td>\n",
       "      <td>11.000000</td>\n",
       "      <td>14.000000</td>\n",
       "    </tr>\n",
       "    <tr>\n",
       "      <th>50%</th>\n",
       "      <td>393.500000</td>\n",
       "      <td>86.000000</td>\n",
       "      <td>17.000000</td>\n",
       "      <td>21.000000</td>\n",
       "    </tr>\n",
       "    <tr>\n",
       "      <th>75%</th>\n",
       "      <td>663.000000</td>\n",
       "      <td>201.000000</td>\n",
       "      <td>31.000000</td>\n",
       "      <td>33.000000</td>\n",
       "    </tr>\n",
       "    <tr>\n",
       "      <th>max</th>\n",
       "      <td>4503.000000</td>\n",
       "      <td>1334.000000</td>\n",
       "      <td>515.000000</td>\n",
       "      <td>286.000000</td>\n",
       "    </tr>\n",
       "  </tbody>\n",
       "</table>\n",
       "</div>"
      ],
      "text/plain": [
       "       chat duration in seconds  queue duration in seconds  first response time  average response time\n",
       "count               1132.000000                 255.000000          1032.000000            1032.000000\n",
       "mean                 513.778269                 154.156863            26.203488              26.840116\n",
       "std                  437.419601                 193.553262            31.195346              22.549022\n",
       "min                    1.000000                   1.000000             0.000000               1.000000\n",
       "25%                  228.000000                  16.000000            11.000000              14.000000\n",
       "50%                  393.500000                  86.000000            17.000000              21.000000\n",
       "75%                  663.000000                 201.000000            31.000000              33.000000\n",
       "max                 4503.000000                1334.000000           515.000000             286.000000"
      ]
     },
     "execution_count": 11,
     "metadata": {},
     "output_type": "execute_result"
    }
   ],
   "source": [
    "df_cleanchats.describe()"
   ]
  },
  {
   "cell_type": "code",
   "execution_count": 12,
   "metadata": {},
   "outputs": [
    {
     "name": "stderr",
     "output_type": "stream",
     "text": [
      "C:\\Users\\Mrs Farrelly\\Anaconda3\\lib\\site-packages\\matplotlib\\axes\\_axes.py:6462: UserWarning: The 'normed' kwarg is deprecated, and has been replaced by the 'density' kwarg.\n",
      "  warnings.warn(\"The 'normed' kwarg is deprecated, and has been \"\n"
     ]
    },
    {
     "data": {
      "image/png": "[encoded data removed]",
      "text/plain": [
       "<Figure size 432x288 with 1 Axes>"
      ]
     },
     "metadata": {},
     "output_type": "display_data"
    }
   ],
   "source": [
    "x = df_cleanchats [\"chat duration in seconds\"]\n",
    "ax = sns.distplot (x , hist =True, kde = True, rug = False, color = \"m\", bins = 25, hist_kws = {\"edgecolor\" : \"black\"})\n",
    "plt.title(\"Length of Conversation\")\n",
    "sns.set(rc={'figure.figsize':(11.7,8.27)})\n",
    "sns.despine()\n",
    "plt.show()"
   ]
  },
  {
   "cell_type": "markdown",
   "metadata": {},
   "source": [
    "Now lets have a look at if there is a difference in conversation time for good and not rated conversation"
   ]
  },
  {
   "cell_type": "code",
   "execution_count": 13,
   "metadata": {},
   "outputs": [
    {
     "data": {
      "text/plain": [
       "<matplotlib.legend.Legend at 0xb3b3a6bda0>"
      ]
     },
     "execution_count": 13,
     "metadata": {},
     "output_type": "execute_result"
    },
    {
     "data": {
      "image/png": "[encoded data removed]",
      "text/plain": [
       "<Figure size 842.4x595.44 with 1 Axes>"
      ]
     },
     "metadata": {},
     "output_type": "display_data"
    }
   ],
   "source": [
    "not_rated = df_cleanchats.loc[df_cleanchats['rate']=='not rated']['chat duration in seconds']\n",
    "rated_good = df_cleanchats.loc[df_cleanchats['rate']=='rated good']['chat duration in seconds']\n",
    "\n",
    "sns.distplot(not_rated, hist=False, kde=True, rug=False, hist_kws={'edgecolor':'black'}, label='not_rated')\n",
    "sns.distplot(rated_good, hist=False, kde=True, rug=False, hist_kws={'edgecolor':'black'}, label='rated_good')\n",
    "#this gets rid of the outer axis lines\n",
    "sns.despine()\n",
    "#This sets the size of the figure in inches\n",
    "sns.set(rc={'figure.figsize':(11.7,8.27)})\n",
    "#sns.set_context(\"paper\")\n",
    "plt.title(\"Length of Conversation\")\n",
    "plt.legend()"
   ]
  },
  {
   "cell_type": "markdown",
   "metadata": {},
   "source": [
    "There seems to be a slight difference. Lets go ahead and see if the sample mean distributions are different.\n",
    "\n",
    "So basically what we are doing here is setting up a null hypothesis that there is no diffence in the sample means and then testing it at the 5% level of significance to see if there is a difference.\n"
   ]
  },
  {
   "cell_type": "code",
   "execution_count": 14,
   "metadata": {},
   "outputs": [
    {
     "data": {
      "text/plain": [
       "not rated     904\n",
       "rated good    227\n",
       "rated bad       1\n",
       "Name: rate, dtype: int64"
      ]
     },
     "execution_count": 14,
     "metadata": {},
     "output_type": "execute_result"
    }
   ],
   "source": [
    "\n",
    "\n",
    "#lets find out how many we've got of not rated and rated good we have\n",
    "df_cleanchats['rate'].value_counts()\n"
   ]
  },
  {
   "cell_type": "code",
   "execution_count": 15,
   "metadata": {},
   "outputs": [
    {
     "name": "stdout",
     "output_type": "stream",
     "text": [
      "The results of the independent t-test are: \n",
      "\tt-value = -3.749\n",
      "\tp-value = 0.000\n",
      "\n",
      "The difference between groups is -121.0 [-184.3 to -57.7] (mean [95% CI])\n"
     ]
    }
   ],
   "source": [
    "#We're going to need a few more imports to start with\n",
    "from scipy import stats\n",
    "from math import sqrt\n",
    "from scipy.stats import t\n",
    "\n",
    "# Import data\n",
    "#data = pandas.read_csv('data.csv')\n",
    "\n",
    "#sets out what we call the two samples\n",
    "sample1 =df_cleanchats.loc[df_cleanchats['rate']=='not rated']['chat duration in seconds']\n",
    "sample2 = df_cleanchats.loc[df_cleanchats['rate']=='rated good']['chat duration in seconds']\n",
    "\n",
    "# Run independent t-test\n",
    "#ind_t_test = stats.ttest_ind(data.value[data.names == 'beef'],data.value[data.names == 'pork'])\n",
    "ind_t_test = stats.ttest_ind(sample1, sample2)\n",
    "\n",
    "# Calculate the mean difference and 95% confidence interval\n",
    "N1 = 904\n",
    "N2 = 227\n",
    "df = (N1 + N2 - 2)\n",
    "std1 = sample1.std()\n",
    "std2 = sample2.std()\n",
    "std_N1N2 = sqrt( ((N1 - 1)*(std1)**2 + (N2 - 1)*(std2)**2) / df) \n",
    "\n",
    "diff_mean = sample1.mean() - sample2.mean()\n",
    "#this bit calculates our margin of error\n",
    "MoE = t.ppf(0.975, df) * std_N1N2 * sqrt(1/N1 + 1/N2)\n",
    "\n",
    "print('The results of the independent t-test are: \\n\\tt-value = {:4.3f}\\n\\tp-value = {:4.3f}'.format(ind_t_test[0],ind_t_test[1]))\n",
    "print ('\\nThe difference between groups is {:3.1f} [{:3.1f} to {:3.1f}] (mean [95% CI])'.format(diff_mean, diff_mean - MoE, diff_mean + MoE))"
   ]
  },
  {
   "cell_type": "markdown",
   "metadata": {},
   "source": [
    "So what do these values mean. Well, the statistic = -3.96 is compared to the significant level t-vlaue of a t-distribution with degrees of freedom = number of values of the smaller sample minus 1. If you don't understand that it's okay. Check out khan academy for difference of sample means.\n",
    "\n",
    "The p-value is really what we care about here.  the value of 0.0003 is smaller than 0.05.  That means we can reject the null hypothesis.  Basically we are 95% sure the two sample means are different.  The actual significant level of the test is 0.03%.  This means we are 99.97% sure the sample means are different."
   ]
  },
  {
   "cell_type": "markdown",
   "metadata": {},
   "source": [
    "## Average Waiting time\n",
    "\n",
    "Now lets have a look at the average waiting time for good and not rated.\n",
    "\n",
    "Fist we'll need to drop the NaN points and then we can see how many we loose\n",
    "\n",
    "## Tip\n",
    "\n",
    "If you copying from above don't forget to change the name of your dataframe."
   ]
  },
  {
   "cell_type": "code",
   "execution_count": 16,
   "metadata": {},
   "outputs": [
    {
     "name": "stdout",
     "output_type": "stream",
     "text": [
      "(1032, 8)\n",
      "conferenceId                     False\n",
      "chat start date Europe/London    False\n",
      "chat duration in seconds         False\n",
      "queue duration in seconds         True\n",
      "rate                             False\n",
      "operator 1 nick                  False\n",
      "first response time              False\n",
      "average response time            False\n",
      "dtype: bool\n",
      "None\n"
     ]
    },
    {
     "data": {
      "text/plain": [
       "<matplotlib.legend.Legend at 0xb3b3e08e80>"
      ]
     },
     "execution_count": 16,
     "metadata": {},
     "output_type": "execute_result"
    },
    {
     "data": {
      "image/png": "[encoded data removed]",
      "text/plain": [
       "<Figure size 842.4x595.44 with 1 Axes>"
      ]
     },
     "metadata": {},
     "output_type": "display_data"
    }
   ],
   "source": [
    "#this drops the NaN rows from df_cleanchats and calls it df_cleanchats_ART for Average Response Time.\n",
    "df_cleanchats_ART = df_cleanchats.dropna(subset = ['average response time'])\n",
    "#this prints the shape of the df_cleanchats_ART last time it was (1132, 47)\n",
    "print (df_cleanchats_ART.shape)\n",
    "#this checks for any NaN values\n",
    "print(print (df_cleanchats_ART.isnull().any()))\n",
    "\n",
    "#this sets up the variables for the overlapping histogram.\n",
    "not_rated = df_cleanchats_ART.loc[df_cleanchats_ART['rate']=='not rated']['average response time']\n",
    "rated_good = df_cleanchats_ART.loc[df_cleanchats_ART['rate']=='rated good']['average response time']\n",
    "\n",
    "#this plots the histograms overlaping using seaborn\n",
    "sns.distplot(not_rated, hist=False, kde=True, rug=False, hist_kws={'edgecolor':'black'}, label='not_rated')\n",
    "sns.distplot(rated_good, hist=False, kde=True, rug=False, hist_kws={'edgecolor':'black'}, label='rated_good')\n",
    "#this gets rid of the outer axis lines\n",
    "sns.despine()\n",
    "#This sets the size of the figure in inches\n",
    "sns.set(rc={'figure.figsize':(11.7,8.27)})\n",
    "#sns.set_context(\"paper\")\n",
    "plt.title(\"average response time\")\n",
    "plt.legend()"
   ]
  },
  {
   "cell_type": "code",
   "execution_count": 17,
   "metadata": {},
   "outputs": [
    {
     "name": "stdout",
     "output_type": "stream",
     "text": [
      "conferenceId                             object\n",
      "chat start date Europe/London    datetime64[ns]\n",
      "chat duration in seconds                  int64\n",
      "queue duration in seconds               float64\n",
      "rate                                     object\n",
      "operator 1 nick                          object\n",
      "first response time                     float64\n",
      "average response time                   float64\n",
      "dtype: object\n"
     ]
    }
   ],
   "source": [
    "print (df_cleanchats_ART.dtypes)"
   ]
  },
  {
   "cell_type": "markdown",
   "metadata": {},
   "source": [
    "Okay, so while there seem to be more not_rated conversations than rated_good conversations, there doesn't appear to be a difference in the mean. We can conduct the same hypothesis test as above to see if we can confirm our results. Also, we have lost 100 rows (observations) by dropping the Nan Values (values that don't exist but are messing with our analysis)\n",
    "\n"
   ]
  },
  {
   "cell_type": "code",
   "execution_count": 18,
   "metadata": {},
   "outputs": [
    {
     "data": {
      "text/plain": [
       "not rated     806\n",
       "rated good    225\n",
       "rated bad       1\n",
       "Name: rate, dtype: int64"
      ]
     },
     "execution_count": 18,
     "metadata": {},
     "output_type": "execute_result"
    }
   ],
   "source": [
    "#lets find out how many we've got of not rated and rated good we have\n",
    "df_cleanchats_ART['rate'].value_counts()"
   ]
  },
  {
   "cell_type": "code",
   "execution_count": 19,
   "metadata": {},
   "outputs": [
    {
     "name": "stdout",
     "output_type": "stream",
     "text": [
      "The results of the independent t-test are: \n",
      "\tt-value = 3.109\n",
      "\tp-value = 0.002\n",
      "\n",
      "The difference between groups is 5.3 [1.9 to 8.6] (mean [95% CI])\n"
     ]
    }
   ],
   "source": [
    "#We're going to need a few more imports to start with\n",
    "from scipy import stats\n",
    "from math import sqrt\n",
    "from scipy.stats import t\n",
    "\n",
    "# Import data\n",
    "#data = pandas.read_csv('data.csv')\n",
    "\n",
    "#sets out what we call the two samples\n",
    "sample1 =df_cleanchats_ART.loc[df_cleanchats_ART['rate']=='not rated']['average response time']\n",
    "sample2 = df_cleanchats_ART.loc[df_cleanchats_ART['rate']=='rated good']['average response time']\n",
    "\n",
    "# Run independent t-test\n",
    "#ind_t_test = stats.ttest_ind(data.value[data.names == 'beef'],data.value[data.names == 'pork'])\n",
    "ind_t_test = stats.ttest_ind(sample1, sample2)\n",
    "\n",
    "# Calculate the mean difference and 95% confidence interval\n",
    "N1 = 806\n",
    "N2 = 225\n",
    "df = (N1 + N2 - 2)\n",
    "std1 = sample1.std()\n",
    "std2 = sample2.std()\n",
    "std_N1N2 = sqrt( ((N1 - 1)*(std1)**2 + (N2 - 1)*(std2)**2) / df) \n",
    "\n",
    "diff_mean = sample1.mean() - sample2.mean()\n",
    "#this bit calculates our margin of error\n",
    "MoE = t.ppf(0.975, df) * std_N1N2 * sqrt(1/N1 + 1/N2)\n",
    "\n",
    "print('The results of the independent t-test are: \\n\\tt-value = {:4.3f}\\n\\tp-value = {:4.3f}'.format(ind_t_test[0],ind_t_test[1]))\n",
    "print ('\\nThe difference between groups is {:3.1f} [{:3.1f} to {:3.1f}] (mean [95% CI])'.format(diff_mean, diff_mean - MoE, diff_mean + MoE))"
   ]
  },
  {
   "cell_type": "markdown",
   "metadata": {},
   "source": [
    "okay so there is a slight difference in the mean of the groups but only by 5.3 seconds, where as in the previous example it was more like 2 minutes."
   ]
  },
  {
   "cell_type": "markdown",
   "metadata": {},
   "source": [
    "## First repsonse time\n",
    "\n",
    "I suppost the last thing to do is check first response time with the same calculations and see what's going on."
   ]
  },
  {
   "cell_type": "code",
   "execution_count": 20,
   "metadata": {},
   "outputs": [
    {
     "data": {
      "text/plain": [
       "<matplotlib.legend.Legend at 0xb3b4084eb8>"
      ]
     },
     "execution_count": 20,
     "metadata": {},
     "output_type": "execute_result"
    },
    {
     "data": {
      "image/png": "[encoded data removed]",
      "text/plain": [
       "<Figure size 842.4x595.44 with 1 Axes>"
      ]
     },
     "metadata": {},
     "output_type": "display_data"
    }
   ],
   "source": [
    "#we don't need to redefine the dataframe just the column header\n",
    "#this sets up the variables for the overlapping histogram.\n",
    "not_rated = df_cleanchats_ART.loc[df_cleanchats_ART['rate']=='not rated']['first response time']\n",
    "rated_good = df_cleanchats_ART.loc[df_cleanchats_ART['rate']=='rated good']['first response time']\n",
    "\n",
    "#this plots the histograms overlaping using seaborn\n",
    "sns.distplot(not_rated, hist=False, kde=True, rug=False, hist_kws={'edgecolor':'black'}, label='not_rated')\n",
    "sns.distplot(rated_good, hist=False, kde=True, rug=False, hist_kws={'edgecolor':'black'}, label='rated_good')\n",
    "#this gets rid of the outer axis lines\n",
    "sns.despine()\n",
    "#This sets the size of the figure in inches\n",
    "sns.set(rc={'figure.figsize':(11.7,8.27)})\n",
    "#sns.set_context(\"paper\")\n",
    "plt.title(\"first response time\")\n",
    "plt.legend()"
   ]
  },
  {
   "cell_type": "code",
   "execution_count": 21,
   "metadata": {},
   "outputs": [
    {
     "name": "stdout",
     "output_type": "stream",
     "text": [
      "The results of the independent t-test are: \n",
      "\tt-value = 0.825\n",
      "\tp-value = 0.410\n",
      "\n",
      "The difference between groups is 1.9 [-2.7 to 6.6] (mean [95% CI])\n"
     ]
    }
   ],
   "source": [
    "#We're going to need a few more imports to start with\n",
    "from scipy import stats\n",
    "from math import sqrt\n",
    "from scipy.stats import t\n",
    "\n",
    "# Import data\n",
    "#data = pandas.read_csv('data.csv')\n",
    "\n",
    "#sets out what we call the two samples\n",
    "sample1 =df_cleanchats_ART.loc[df_cleanchats_ART['rate']=='not rated']['first response time']\n",
    "sample2 = df_cleanchats_ART.loc[df_cleanchats_ART['rate']=='rated good']['first response time']\n",
    "\n",
    "# Run independent t-test\n",
    "#ind_t_test = stats.ttest_ind(data.value[data.names == 'beef'],data.value[data.names == 'pork'])\n",
    "ind_t_test = stats.ttest_ind(sample1, sample2)\n",
    "\n",
    "# Calculate the mean difference and 95% confidence interval\n",
    "N1 = 806\n",
    "N2 = 225\n",
    "df = (N1 + N2 - 2)\n",
    "std1 = sample1.std()\n",
    "std2 = sample2.std()\n",
    "std_N1N2 = sqrt( ((N1 - 1)*(std1)**2 + (N2 - 1)*(std2)**2) / df) \n",
    "\n",
    "diff_mean = sample1.mean() - sample2.mean()\n",
    "#this bit calculates our margin of error\n",
    "MoE = t.ppf(0.975, df) * std_N1N2 * sqrt(1/N1 + 1/N2)\n",
    "\n",
    "print('The results of the independent t-test are: \\n\\tt-value = {:4.3f}\\n\\tp-value = {:4.3f}'.format(ind_t_test[0],ind_t_test[1]))\n",
    "print ('\\nThe difference between groups is {:3.1f} [{:3.1f} to {:3.1f}] (mean [95% CI])'.format(diff_mean, diff_mean - MoE, diff_mean + MoE))"
   ]
  },
  {
   "cell_type": "markdown",
   "metadata": {},
   "source": [
    "so basically there is no difference between first response time for those rated good and those not rated."
   ]
  },
  {
   "cell_type": "markdown",
   "metadata": {},
   "source": [
    "## By Agent\n",
    "\n",
    "Okay, so the last part of initial analysis is to have a look if there is any difference by agent.  That is does the person answering the live chat make a difference to the number of responses rated good.  We can look at the proportion per Agent to begin with.  We also may want to discount all those who don't answer live chat very often.\n",
    "\n",
    "It is worth noting that this does not take into account customers who think the conversation is good then just decide to not rate the experience.  We will cover this using Natural Lanuage Processing in the next Notebook."
   ]
  },
  {
   "cell_type": "markdown",
   "metadata": {},
   "source": [
    "One thing to try is to generate a list from this and then try a list comprehension to create a new data frame.  Can't think of any other way to generate this.  Then I can use the new data frame to create a stacked bar chart."
   ]
  },
  {
   "cell_type": "code",
   "execution_count": 22,
   "metadata": {},
   "outputs": [
    {
     "data": {
      "text/plain": [
       "operator 1 nick     rate      \n",
       "Alice               not rated       2\n",
       "                    rated good      1\n",
       "Becca               not rated     103\n",
       "                    rated good     32\n",
       "                    rated bad       1\n",
       "Becki               not rated      84\n",
       "                    rated good     27\n",
       "Belle               not rated      14\n",
       "                    rated good      4\n",
       "Charlene            not rated       3\n",
       "Cherelle Toussaint  not rated       4\n",
       "Elle                not rated       9\n",
       "Ellie               not rated      51\n",
       "                    rated good     11\n",
       "Emily               not rated      90\n",
       "                    rated good     20\n",
       "Kestina Hunter      not rated      17\n",
       "                    rated good      3\n",
       "Kim                 not rated      28\n",
       "                    rated good      5\n",
       "Kristina            not rated       9\n",
       "                    rated good      1\n",
       "Lewis               not rated      45\n",
       "                    rated good     30\n",
       "Michele             not rated     111\n",
       "                    rated good      5\n",
       "Oliver Hubbard      not rated      10\n",
       "                    rated good      2\n",
       "Rob                 not rated      82\n",
       "                    rated good     46\n",
       "Roisin Delaney      not rated      76\n",
       "                    rated good     15\n",
       "Rosie               not rated      68\n",
       "                    rated good     23\n",
       "Name: rate, dtype: int64"
      ]
     },
     "execution_count": 22,
     "metadata": {},
     "output_type": "execute_result"
    }
   ],
   "source": [
    "df_cleanchats_ART.groupby('operator 1 nick')['rate'].value_counts()"
   ]
  },
  {
   "cell_type": "code",
   "execution_count": 23,
   "metadata": {},
   "outputs": [
    {
     "data": {
      "text/plain": [
       "{('Alice', 'not rated'): 2,\n",
       " ('Alice', 'rated good'): 1,\n",
       " ('Becca', 'not rated'): 103,\n",
       " ('Becca', 'rated good'): 32,\n",
       " ('Becca', 'rated bad'): 1,\n",
       " ('Becki', 'not rated'): 84,\n",
       " ('Becki', 'rated good'): 27,\n",
       " ('Belle', 'not rated'): 14,\n",
       " ('Belle', 'rated good'): 4,\n",
       " ('Charlene ', 'not rated'): 3,\n",
       " ('Cherelle Toussaint', 'not rated'): 4,\n",
       " ('Elle', 'not rated'): 9,\n",
       " ('Ellie', 'not rated'): 51,\n",
       " ('Ellie', 'rated good'): 11,\n",
       " ('Emily', 'not rated'): 90,\n",
       " ('Emily', 'rated good'): 20,\n",
       " ('Kestina Hunter', 'not rated'): 17,\n",
       " ('Kestina Hunter', 'rated good'): 3,\n",
       " ('Kim', 'not rated'): 28,\n",
       " ('Kim', 'rated good'): 5,\n",
       " ('Kristina ', 'not rated'): 9,\n",
       " ('Kristina ', 'rated good'): 1,\n",
       " ('Lewis', 'not rated'): 45,\n",
       " ('Lewis', 'rated good'): 30,\n",
       " ('Michele', 'not rated'): 111,\n",
       " ('Michele', 'rated good'): 5,\n",
       " ('Oliver Hubbard', 'not rated'): 10,\n",
       " ('Oliver Hubbard', 'rated good'): 2,\n",
       " ('Rob', 'not rated'): 82,\n",
       " ('Rob', 'rated good'): 46,\n",
       " ('Roisin Delaney', 'not rated'): 76,\n",
       " ('Roisin Delaney', 'rated good'): 15,\n",
       " ('Rosie', 'not rated'): 68,\n",
       " ('Rosie', 'rated good'): 23}"
      ]
     },
     "execution_count": 23,
     "metadata": {},
     "output_type": "execute_result"
    }
   ],
   "source": [
    "df_cleanchats_ART.groupby('operator 1 nick')['rate'].value_counts().to_dict()"
   ]
  },
  {
   "cell_type": "markdown",
   "metadata": {},
   "source": [
    "create a list of all the agents"
   ]
  },
  {
   "cell_type": "code",
   "execution_count": 24,
   "metadata": {},
   "outputs": [
    {
     "data": {
      "text/plain": [
       "{'Ellie': 62,\n",
       " 'Michele': 116,\n",
       " 'Emily': 110,\n",
       " 'Becki': 111,\n",
       " 'Kim': 33,\n",
       " 'Rosie': 91,\n",
       " 'Becca': 136,\n",
       " 'Oliver Hubbard': 12,\n",
       " 'Kristina ': 10,\n",
       " 'Roisin Delaney': 91,\n",
       " 'Lewis': 75,\n",
       " 'Cherelle Toussaint': 4,\n",
       " 'Kestina Hunter': 20,\n",
       " 'Rob': 128,\n",
       " 'Alice': 3,\n",
       " 'Elle': 9,\n",
       " 'Charlene ': 3,\n",
       " 'Belle': 18}"
      ]
     },
     "execution_count": 24,
     "metadata": {},
     "output_type": "execute_result"
    }
   ],
   "source": [
    "#probably don't need this import\n",
    "from collections import OrderedDict\n",
    "#this gives a dictionary of all the agents and every time they appear\n",
    "agents = df_cleanchats_ART['operator 1 nick'].to_dict()\n",
    "#this is an empty dictionary which I am going to use to collect the values of \n",
    "#everytime an agent appears, basically add them all up\n",
    "agents2 ={}\n",
    "\n",
    "for v in agents.values():\n",
    "    if not v in agents2: agents2[v]=1\n",
    "    else: agents2[v]+=1\n",
    "           \n",
    "agents2  \n"
   ]
  },
  {
   "cell_type": "markdown",
   "metadata": {},
   "source": [
    "create a list of agents who appear more than 50 times"
   ]
  },
  {
   "cell_type": "code",
   "execution_count": 25,
   "metadata": {},
   "outputs": [
    {
     "data": {
      "text/plain": [
       "{'Ellie': 62,\n",
       " 'Michele': 116,\n",
       " 'Emily': 110,\n",
       " 'Becki': 111,\n",
       " 'Rosie': 91,\n",
       " 'Becca': 136,\n",
       " 'Roisin Delaney': 91,\n",
       " 'Lewis': 75,\n",
       " 'Rob': 128}"
      ]
     },
     "execution_count": 25,
     "metadata": {},
     "output_type": "execute_result"
    }
   ],
   "source": [
    "#I start by creating agents3 so I don't change agents 2\n",
    "#this will help if I want to increase the size of my dataset\n",
    "agents_total = agents2\n",
    "agents_total = dict((k, v) for k, v in agents2.items() if v >= 50)\n",
    "agents_total\n"
   ]
  },
  {
   "cell_type": "markdown",
   "metadata": {},
   "source": [
    "Now lets do the same thing but for only not rated. We won't have to limit this to greater than 50. \n",
    "agents_nr is agents not rated"
   ]
  },
  {
   "cell_type": "code",
   "execution_count": 26,
   "metadata": {},
   "outputs": [
    {
     "data": {
      "text/plain": [
       "{('not rated', 'Michele'): 111,\n",
       " ('not rated', 'Becca'): 103,\n",
       " ('not rated', 'Emily'): 90,\n",
       " ('not rated', 'Becki'): 84,\n",
       " ('not rated', 'Rob'): 82,\n",
       " ('not rated', 'Roisin Delaney'): 76,\n",
       " ('not rated', 'Rosie'): 68,\n",
       " ('not rated', 'Ellie'): 51,\n",
       " ('not rated', 'Lewis'): 45,\n",
       " ('not rated', 'Kim'): 28,\n",
       " ('not rated', 'Kestina Hunter'): 17,\n",
       " ('not rated', 'Belle'): 14,\n",
       " ('not rated', 'Oliver Hubbard'): 10,\n",
       " ('not rated', 'Elle'): 9,\n",
       " ('not rated', 'Kristina '): 9,\n",
       " ('not rated', 'Cherelle Toussaint'): 4,\n",
       " ('not rated', 'Charlene '): 3,\n",
       " ('not rated', 'Alice'): 2,\n",
       " ('rated bad', 'Becca'): 1,\n",
       " ('rated good', 'Rob'): 46,\n",
       " ('rated good', 'Becca'): 32,\n",
       " ('rated good', 'Lewis'): 30,\n",
       " ('rated good', 'Becki'): 27,\n",
       " ('rated good', 'Rosie'): 23,\n",
       " ('rated good', 'Emily'): 20,\n",
       " ('rated good', 'Roisin Delaney'): 15,\n",
       " ('rated good', 'Ellie'): 11,\n",
       " ('rated good', 'Kim'): 5,\n",
       " ('rated good', 'Michele'): 5,\n",
       " ('rated good', 'Belle'): 4,\n",
       " ('rated good', 'Kestina Hunter'): 3,\n",
       " ('rated good', 'Oliver Hubbard'): 2,\n",
       " ('rated good', 'Alice'): 1,\n",
       " ('rated good', 'Kristina '): 1}"
      ]
     },
     "execution_count": 26,
     "metadata": {},
     "output_type": "execute_result"
    }
   ],
   "source": [
    "agents_nr= df_cleanchats_ART.groupby('rate')['operator 1 nick'].value_counts().to_dict()\n",
    "agents_nr\n"
   ]
  },
  {
   "cell_type": "markdown",
   "metadata": {},
   "source": [
    "## A new approach\n",
    "\n",
    "what i'm going to do is create a data frame that contains only those values which have \"not rated\" in the rate column and call it df_nr.\n",
    "\n",
    "Then i'm going to create a new data frame that contains only \"rated good\" and call it good.\n",
    "\n",
    "From there I can create two new dictionaries and add them to agents 3 which will create the data frame from which i'm going to create my stacked bar chart (after which I will never be creating a stacked bar chart ever again!!!)"
   ]
  },
  {
   "cell_type": "code",
   "execution_count": 27,
   "metadata": {},
   "outputs": [
    {
     "data": {
      "text/html": [
       "<div>\n",
       "<style scoped>\n",
       "    .dataframe tbody tr th:only-of-type {\n",
       "        vertical-align: middle;\n",
       "    }\n",
       "\n",
       "    .dataframe tbody tr th {\n",
       "        vertical-align: top;\n",
       "    }\n",
       "\n",
       "    .dataframe thead th {\n",
       "        text-align: right;\n",
       "    }\n",
       "</style>\n",
       "<table border=\"1\" class=\"dataframe\">\n",
       "  <thead>\n",
       "    <tr style=\"text-align: right;\">\n",
       "      <th></th>\n",
       "      <th>conferenceId</th>\n",
       "      <th>chat start date Europe/London</th>\n",
       "      <th>chat duration in seconds</th>\n",
       "      <th>queue duration in seconds</th>\n",
       "      <th>rate</th>\n",
       "      <th>operator 1 nick</th>\n",
       "      <th>first response time</th>\n",
       "      <th>average response time</th>\n",
       "    </tr>\n",
       "  </thead>\n",
       "  <tbody>\n",
       "    <tr>\n",
       "      <th>8</th>\n",
       "      <td>PF3WNW3O1G</td>\n",
       "      <td>2018-10-01 09:58:00</td>\n",
       "      <td>1224</td>\n",
       "      <td>NaN</td>\n",
       "      <td>rated good</td>\n",
       "      <td>Ellie</td>\n",
       "      <td>23.0</td>\n",
       "      <td>17.0</td>\n",
       "    </tr>\n",
       "    <tr>\n",
       "      <th>9</th>\n",
       "      <td>PF5WVYY2FK</td>\n",
       "      <td>2018-10-01 10:30:00</td>\n",
       "      <td>630</td>\n",
       "      <td>NaN</td>\n",
       "      <td>rated good</td>\n",
       "      <td>Ellie</td>\n",
       "      <td>16.0</td>\n",
       "      <td>20.0</td>\n",
       "    </tr>\n",
       "    <tr>\n",
       "      <th>11</th>\n",
       "      <td>PFAX204FCJ</td>\n",
       "      <td>2018-10-01 11:14:00</td>\n",
       "      <td>391</td>\n",
       "      <td>NaN</td>\n",
       "      <td>rated good</td>\n",
       "      <td>Ellie</td>\n",
       "      <td>31.0</td>\n",
       "      <td>20.0</td>\n",
       "    </tr>\n",
       "    <tr>\n",
       "      <th>13</th>\n",
       "      <td>PFCXK1WUA9</td>\n",
       "      <td>2018-10-01 11:46:00</td>\n",
       "      <td>419</td>\n",
       "      <td>NaN</td>\n",
       "      <td>rated good</td>\n",
       "      <td>Ellie</td>\n",
       "      <td>26.0</td>\n",
       "      <td>25.0</td>\n",
       "    </tr>\n",
       "    <tr>\n",
       "      <th>17</th>\n",
       "      <td>PFFX23K44K</td>\n",
       "      <td>2018-10-01 12:26:00</td>\n",
       "      <td>1332</td>\n",
       "      <td>NaN</td>\n",
       "      <td>rated good</td>\n",
       "      <td>Michele</td>\n",
       "      <td>29.0</td>\n",
       "      <td>36.0</td>\n",
       "    </tr>\n",
       "  </tbody>\n",
       "</table>\n",
       "</div>"
      ],
      "text/plain": [
       "   conferenceId chat start date Europe/London  chat duration in seconds  queue duration in seconds        rate operator 1 nick  first response time  average response time\n",
       "8    PF3WNW3O1G           2018-10-01 09:58:00                      1224                        NaN  rated good           Ellie                 23.0                   17.0\n",
       "9    PF5WVYY2FK           2018-10-01 10:30:00                       630                        NaN  rated good           Ellie                 16.0                   20.0\n",
       "11   PFAX204FCJ           2018-10-01 11:14:00                       391                        NaN  rated good           Ellie                 31.0                   20.0\n",
       "13   PFCXK1WUA9           2018-10-01 11:46:00                       419                        NaN  rated good           Ellie                 26.0                   25.0\n",
       "17   PFFX23K44K           2018-10-01 12:26:00                      1332                        NaN  rated good         Michele                 29.0                   36.0"
      ]
     },
     "execution_count": 27,
     "metadata": {},
     "output_type": "execute_result"
    }
   ],
   "source": [
    "#df = df[~df['your column'].isin(['list of strings'])]\n",
    "df_good = df_cleanchats_ART[~df_cleanchats_ART[\"rate\"].isin([\"not rated\"])]\n",
    "df_good.head()"
   ]
  },
  {
   "cell_type": "code",
   "execution_count": 28,
   "metadata": {},
   "outputs": [
    {
     "data": {
      "text/html": [
       "<div>\n",
       "<style scoped>\n",
       "    .dataframe tbody tr th:only-of-type {\n",
       "        vertical-align: middle;\n",
       "    }\n",
       "\n",
       "    .dataframe tbody tr th {\n",
       "        vertical-align: top;\n",
       "    }\n",
       "\n",
       "    .dataframe thead th {\n",
       "        text-align: right;\n",
       "    }\n",
       "</style>\n",
       "<table border=\"1\" class=\"dataframe\">\n",
       "  <thead>\n",
       "    <tr style=\"text-align: right;\">\n",
       "      <th></th>\n",
       "      <th>conferenceId</th>\n",
       "      <th>chat start date Europe/London</th>\n",
       "      <th>chat duration in seconds</th>\n",
       "      <th>queue duration in seconds</th>\n",
       "      <th>rate</th>\n",
       "      <th>operator 1 nick</th>\n",
       "      <th>first response time</th>\n",
       "      <th>average response time</th>\n",
       "    </tr>\n",
       "  </thead>\n",
       "  <tbody>\n",
       "    <tr>\n",
       "      <th>0</th>\n",
       "      <td>PFWWMRWSUQ</td>\n",
       "      <td>2018-10-01 08:12:00</td>\n",
       "      <td>595</td>\n",
       "      <td>NaN</td>\n",
       "      <td>not rated</td>\n",
       "      <td>Ellie</td>\n",
       "      <td>35.0</td>\n",
       "      <td>37.0</td>\n",
       "    </tr>\n",
       "    <tr>\n",
       "      <th>2</th>\n",
       "      <td>PFYWKS8Y9W</td>\n",
       "      <td>2018-10-01 08:32:00</td>\n",
       "      <td>182</td>\n",
       "      <td>NaN</td>\n",
       "      <td>not rated</td>\n",
       "      <td>Ellie</td>\n",
       "      <td>26.0</td>\n",
       "      <td>26.0</td>\n",
       "    </tr>\n",
       "    <tr>\n",
       "      <th>3</th>\n",
       "      <td>PFZWPTLQTY</td>\n",
       "      <td>2018-10-01 08:49:00</td>\n",
       "      <td>103</td>\n",
       "      <td>NaN</td>\n",
       "      <td>not rated</td>\n",
       "      <td>Ellie</td>\n",
       "      <td>10.0</td>\n",
       "      <td>8.0</td>\n",
       "    </tr>\n",
       "    <tr>\n",
       "      <th>4</th>\n",
       "      <td>PF2W3VWLQ4</td>\n",
       "      <td>2018-10-01 09:29:00</td>\n",
       "      <td>127</td>\n",
       "      <td>NaN</td>\n",
       "      <td>not rated</td>\n",
       "      <td>Ellie</td>\n",
       "      <td>7.0</td>\n",
       "      <td>11.0</td>\n",
       "    </tr>\n",
       "    <tr>\n",
       "      <th>5</th>\n",
       "      <td>PF2WWWZ68I</td>\n",
       "      <td>2018-10-01 09:42:00</td>\n",
       "      <td>176</td>\n",
       "      <td>NaN</td>\n",
       "      <td>not rated</td>\n",
       "      <td>Ellie</td>\n",
       "      <td>31.0</td>\n",
       "      <td>15.0</td>\n",
       "    </tr>\n",
       "  </tbody>\n",
       "</table>\n",
       "</div>"
      ],
      "text/plain": [
       "  conferenceId chat start date Europe/London  chat duration in seconds  queue duration in seconds       rate operator 1 nick  first response time  average response time\n",
       "0   PFWWMRWSUQ           2018-10-01 08:12:00                       595                        NaN  not rated           Ellie                 35.0                   37.0\n",
       "2   PFYWKS8Y9W           2018-10-01 08:32:00                       182                        NaN  not rated           Ellie                 26.0                   26.0\n",
       "3   PFZWPTLQTY           2018-10-01 08:49:00                       103                        NaN  not rated           Ellie                 10.0                    8.0\n",
       "4   PF2W3VWLQ4           2018-10-01 09:29:00                       127                        NaN  not rated           Ellie                  7.0                   11.0\n",
       "5   PF2WWWZ68I           2018-10-01 09:42:00                       176                        NaN  not rated           Ellie                 31.0                   15.0"
      ]
     },
     "execution_count": 28,
     "metadata": {},
     "output_type": "execute_result"
    }
   ],
   "source": [
    "#df = df[~df['your column'].isin(['list of strings'])]\n",
    "df_nr = df_cleanchats_ART[~df_cleanchats_ART[\"rate\"].isin([\"rated good\"])]\n",
    "df_nr.head()"
   ]
  },
  {
   "cell_type": "code",
   "execution_count": 29,
   "metadata": {},
   "outputs": [
    {
     "data": {
      "text/plain": [
       "{'Ellie': 51,\n",
       " 'Michele': 111,\n",
       " 'Emily': 90,\n",
       " 'Becki': 84,\n",
       " 'Kim': 28,\n",
       " 'Rosie': 68,\n",
       " 'Becca': 104,\n",
       " 'Kristina ': 9,\n",
       " 'Roisin Delaney': 76,\n",
       " 'Lewis': 45,\n",
       " 'Oliver Hubbard': 10,\n",
       " 'Cherelle Toussaint': 4,\n",
       " 'Kestina Hunter': 17,\n",
       " 'Rob': 82,\n",
       " 'Alice': 2,\n",
       " 'Elle': 9,\n",
       " 'Charlene ': 3,\n",
       " 'Belle': 14}"
      ]
     },
     "execution_count": 29,
     "metadata": {},
     "output_type": "execute_result"
    }
   ],
   "source": [
    "#this gives a dictionary of all the agents and every time they appear\n",
    "agents_nr = df_nr['operator 1 nick'].to_dict()\n",
    "#this is an empty dictionary which I am going to use to collect the values of \n",
    "#everytime an agent appears, basically add them all up\n",
    "agents_nr2 ={}\n",
    "\n",
    "for v in agents_nr.values():\n",
    "    if not v in agents_nr2: agents_nr2[v]=1\n",
    "    else: agents_nr2[v]+=1\n",
    "           \n",
    "agents_nr2  "
   ]
  },
  {
   "cell_type": "code",
   "execution_count": 30,
   "metadata": {},
   "outputs": [
    {
     "data": {
      "text/plain": [
       "{'Ellie': 11,\n",
       " 'Michele': 5,\n",
       " 'Emily': 20,\n",
       " 'Becki': 27,\n",
       " 'Rosie': 23,\n",
       " 'Oliver Hubbard': 2,\n",
       " 'Becca': 33,\n",
       " 'Roisin Delaney': 15,\n",
       " 'Lewis': 30,\n",
       " 'Kim': 5,\n",
       " 'Kestina Hunter': 3,\n",
       " 'Rob': 46,\n",
       " 'Alice': 1,\n",
       " 'Belle': 4,\n",
       " 'Kristina ': 1}"
      ]
     },
     "execution_count": 30,
     "metadata": {},
     "output_type": "execute_result"
    }
   ],
   "source": [
    "#this gives a dictionary of all the agents and every time they appear\n",
    "agents_good = df_good['operator 1 nick'].to_dict()\n",
    "#this is an empty dictionary which I am going to use to collect the values of \n",
    "#everytime an agent appears, basically add them all up\n",
    "agents_good2 ={}\n",
    "\n",
    "for v in agents_good.values():\n",
    "    if not v in agents_good2: agents_good2[v]=1\n",
    "    else: agents_good2[v]+=1\n",
    "           \n",
    "agents_good2  "
   ]
  },
  {
   "cell_type": "code",
   "execution_count": 31,
   "metadata": {},
   "outputs": [
    {
     "data": {
      "text/html": [
       "<div>\n",
       "<style scoped>\n",
       "    .dataframe tbody tr th:only-of-type {\n",
       "        vertical-align: middle;\n",
       "    }\n",
       "\n",
       "    .dataframe tbody tr th {\n",
       "        vertical-align: top;\n",
       "    }\n",
       "\n",
       "    .dataframe thead th {\n",
       "        text-align: right;\n",
       "    }\n",
       "</style>\n",
       "<table border=\"1\" class=\"dataframe\">\n",
       "  <thead>\n",
       "    <tr style=\"text-align: right;\">\n",
       "      <th></th>\n",
       "      <th>names</th>\n",
       "      <th>total</th>\n",
       "      <th>rated good</th>\n",
       "      <th>not rated</th>\n",
       "    </tr>\n",
       "  </thead>\n",
       "  <tbody>\n",
       "    <tr>\n",
       "      <th>0</th>\n",
       "      <td>Ellie</td>\n",
       "      <td>62</td>\n",
       "      <td>11</td>\n",
       "      <td>51</td>\n",
       "    </tr>\n",
       "    <tr>\n",
       "      <th>1</th>\n",
       "      <td>Michele</td>\n",
       "      <td>116</td>\n",
       "      <td>5</td>\n",
       "      <td>111</td>\n",
       "    </tr>\n",
       "    <tr>\n",
       "      <th>2</th>\n",
       "      <td>Emily</td>\n",
       "      <td>110</td>\n",
       "      <td>20</td>\n",
       "      <td>90</td>\n",
       "    </tr>\n",
       "    <tr>\n",
       "      <th>3</th>\n",
       "      <td>Becki</td>\n",
       "      <td>111</td>\n",
       "      <td>27</td>\n",
       "      <td>84</td>\n",
       "    </tr>\n",
       "    <tr>\n",
       "      <th>4</th>\n",
       "      <td>Rosie</td>\n",
       "      <td>91</td>\n",
       "      <td>23</td>\n",
       "      <td>68</td>\n",
       "    </tr>\n",
       "    <tr>\n",
       "      <th>5</th>\n",
       "      <td>Becca</td>\n",
       "      <td>136</td>\n",
       "      <td>33</td>\n",
       "      <td>104</td>\n",
       "    </tr>\n",
       "    <tr>\n",
       "      <th>6</th>\n",
       "      <td>Roisin Delaney</td>\n",
       "      <td>91</td>\n",
       "      <td>15</td>\n",
       "      <td>76</td>\n",
       "    </tr>\n",
       "    <tr>\n",
       "      <th>7</th>\n",
       "      <td>Lewis</td>\n",
       "      <td>75</td>\n",
       "      <td>30</td>\n",
       "      <td>45</td>\n",
       "    </tr>\n",
       "    <tr>\n",
       "      <th>8</th>\n",
       "      <td>Rob</td>\n",
       "      <td>128</td>\n",
       "      <td>46</td>\n",
       "      <td>82</td>\n",
       "    </tr>\n",
       "  </tbody>\n",
       "</table>\n",
       "</div>"
      ],
      "text/plain": [
       "            names  total  rated good  not rated\n",
       "0           Ellie     62          11         51\n",
       "1         Michele    116           5        111\n",
       "2           Emily    110          20         90\n",
       "3           Becki    111          27         84\n",
       "4           Rosie     91          23         68\n",
       "5           Becca    136          33        104\n",
       "6  Roisin Delaney     91          15         76\n",
       "7           Lewis     75          30         45\n",
       "8             Rob    128          46         82"
      ]
     },
     "execution_count": 31,
     "metadata": {},
     "output_type": "execute_result"
    }
   ],
   "source": [
    "#here are my new dictionaries that I am going to use to create my new dataframe\n",
    "#agents_total\n",
    "#agents_good2\n",
    "#agents_nr2\n",
    "\n",
    "#creates the total data frame\n",
    "df_total = pd.DataFrame(list(agents_total.items()), columns = [\"names\",\"total\"])\n",
    "#df_total\n",
    "\n",
    "\n",
    "#creates the good data frame\n",
    "df_good = pd.DataFrame(list(agents_good2.items()), columns = [\"names\",\"rated good\"])\n",
    "#df_good\n",
    "\n",
    "\n",
    "#df_nr = pd.DataFrame.from_dict(agents_nr2, orient = \"index\", columns = [\"not rated\"])\n",
    "df_nr = pd.DataFrame(list(agents_nr2.items()), columns = [\"names\",\"not rated\"])\n",
    "#df_nr\n",
    "\n",
    "#this takes the three new dataframes and merges them on the df_total\n",
    "df_combined1 = pd.merge(df_total, df_good, on = \"names\", how = \"left\")\n",
    "#df_combined1.head(15)\n",
    "\n",
    "df_combined2 = pd.merge(df_combined1, df_nr, on = \"names\", how = \"left\")\n",
    "df_combined2.head(15)\n"
   ]
  },
  {
   "cell_type": "markdown",
   "metadata": {},
   "source": [
    "## Stacked Bar chart\n",
    "\n",
    "finally we have a data frame which we can use to create a Stacked Bar chart...talk about illusive.\n",
    "\n",
    "There must be a way of creating this without making 3 new data sets but I just can't figure out the commands\n",
    "\n",
    "for this we're going to use the df_combined2"
   ]
  },
  {
   "cell_type": "code",
   "execution_count": 32,
   "metadata": {},
   "outputs": [
    {
     "data": {
      "image/png": "[encoded data removed]",
      "text/plain": [
       "<Figure size 1728x720 with 1 Axes>"
      ]
     },
     "metadata": {},
     "output_type": "display_data"
    }
   ],
   "source": [
    "\n",
    "import pandas as pd\n",
    "from matplotlib import pyplot as plt\n",
    "import matplotlib as mpl\n",
    "import seaborn as sns\n",
    "%matplotlib inline\n",
    "\n",
    "#Read in data & create total column\n",
    "#stacked_bar_data = pd.read_csv(\"C:\\stacked_bar.csv\")\n",
    "stacked_bar_data = df_combined2\n",
    "#stacked_bar_data[\"total\"] = stacked_bar_data.Series1 + stacked_bar_data.Series2\n",
    "\n",
    "#Set general plot properties\n",
    "sns.set_style(\"white\")\n",
    "sns.set_context({\"figure.figsize\": (24, 10)})\n",
    "\n",
    "#Plot 1 - background - \"total\" (top) series\n",
    "sns.barplot(x = stacked_bar_data.names, y = stacked_bar_data.total, color = \"red\")\n",
    "\n",
    "#Plot 2 - overlay - \"bottom\" series\n",
    "bottom_plot = sns.barplot(x = stacked_bar_data.names, y = stacked_bar_data[\"rated good\"], color = \"#0000A3\")\n",
    "\n",
    "\n",
    "topbar = plt.Rectangle((0,0),1,1,fc=\"red\", edgecolor = 'none')\n",
    "bottombar = plt.Rectangle((0,0),1,1,fc='#0000A3',  edgecolor = 'none')\n",
    "l = plt.legend([bottombar, topbar], ['rated good', 'not rated'], loc=1, ncol = 2, prop={'size':16})\n",
    "l.draw_frame(False)\n",
    "\n",
    "#Optional code - Make plot look nicer\n",
    "sns.despine(left=True)\n",
    "bottom_plot.set_ylabel(\"Y-axis label\")\n",
    "bottom_plot.set_xlabel(\"X-axis label\")\n",
    "\n",
    "#Set fonts to consistent 16pt size\n",
    "for item in ([bottom_plot.xaxis.label, bottom_plot.yaxis.label] +\n",
    "             bottom_plot.get_xticklabels() + bottom_plot.get_yticklabels()):\n",
    "    item.set_fontsize(16)\n"
   ]
  },
  {
   "cell_type": "code",
   "execution_count": 33,
   "metadata": {},
   "outputs": [
    {
     "data": {
      "text/plain": [
       "array([ 51, 111,  90,  84,  68, 104,  76,  45,  82], dtype=int64)"
      ]
     },
     "execution_count": 33,
     "metadata": {},
     "output_type": "execute_result"
    }
   ],
   "source": [
    "#my_list = df[\"cluster\"].values\n",
    "nr_list = df_combined2[\"not rated\"].values\n",
    "nr_list"
   ]
  },
  {
   "cell_type": "markdown",
   "metadata": {},
   "source": [
    "### Stacked bar chart by percentage"
   ]
  },
  {
   "cell_type": "code",
   "execution_count": 34,
   "metadata": {
    "scrolled": true
   },
   "outputs": [
    {
     "data": {
      "image/png": "[encoded data removed]",
      "text/plain": [
       "<Figure size 1728x720 with 1 Axes>"
      ]
     },
     "metadata": {},
     "output_type": "display_data"
    }
   ],
   "source": [
    "good_list = df_combined2[\"rated good\"].values\n",
    "nr_list = df_combined2[\"not rated\"].values\n",
    "ind = [x for x, _ in enumerate(df_combined2[\"names\"])]\n",
    "names = df_combined2[\"names\"]\n",
    "\n",
    "totals = df_combined2[\"total\"].values\n",
    "rated_good = [i / j * 100 for i,j in zip(df_combined2['rated good'], totals)]\n",
    "not_rated = [i / j * 100 for i,j in zip(df_combined2['not rated'], totals)]\n",
    "\n",
    "#Set bar width at 1\n",
    "bar_width = 1\n",
    "\n",
    "# positions of the left bar-boundaries\n",
    "bar_l = [i for i in range(len(df_combined2['rated good']))] \n",
    "\n",
    "# positions of the x-axis ticks (center of the bars as bar labels)\n",
    "tick_pos = [i+(bar_width/2) for i in bar_l] \n",
    "\n",
    "plt.bar(ind, rated_good, width=0.8, label='rated good', color='#0000A3', bottom=not_rated)\n",
    "plt.bar(ind, not_rated, width=0.8, label='not rated', color='red')\n",
    "#plt.bar(ind, not_rated, width=0.8, label='bronzes', color='#CD853F')\n",
    "#l = plt.legend([rated_good, not_rated], ['rated good', 'not rated'], loc=1, ncol = 2, prop={'size':16})\n",
    "#l.draw_frame(False)\n",
    "\n",
    "#plt.xticks(fontsize=14, rotation=90)\n",
    "plt.yticks(fontsize = 20)\n",
    "plt.xticks(ind, names,fontsize = 20)\n",
    "plt.ylabel(\"Percentage\")\n",
    "plt.xlabel(\"names\",fontsize = 25)\n",
    "plt.title(\"Rated Good Vs Not Rated\")\n",
    "# Let the borders of the graphic\n",
    "sns.set_style(\"white\")\n",
    "sns.set_context({\"figure.figsize\": (24, 10)})\n",
    "#sns.set(rc={'figure.figsize':(24,10)})\n",
    "plt.xlim([min(tick_pos)-bar_width, max(tick_pos)+bar_width])\n",
    "sns.despine(left=True, bottom = True)\n",
    "plt.ylim(-10, 110)\n",
    "\n",
    "# rotate axis labels\n",
    "plt.setp(plt.gca().get_xticklabels(), rotation=45, horizontalalignment='right')\n",
    "\n",
    "#Set fonts to consistent 16pt size\n",
    "#for item in ([plt.ylabel, plt.xlabel]):\n",
    "   # item.set_fontsize(20)\n",
    "#plt.rcParams.update({'font.size': 22})\n",
    "    \n",
    "plt.legend(fontsize = 16)\n",
    "plt.show()"
   ]
  },
  {
   "cell_type": "markdown",
   "metadata": {},
   "source": [
    "For now that the end of the initial analysis.  The next version will be looking at things over various time stamps in Live Chat by Time"
   ]
  },
  {
   "cell_type": "code",
   "execution_count": null,
   "metadata": {},
   "outputs": [],
   "source": []
  }
 ],
 "metadata": {
  "kernelspec": {
   "display_name": "Python 3",
   "language": "python",
   "name": "python3"
  },
  "language_info": {
   "codemirror_mode": {
    "name": "ipython",
    "version": 3
   },
   "file_extension": ".py",
   "mimetype": "text/x-python",
   "name": "python",
   "nbconvert_exporter": "python",
   "pygments_lexer": "ipython3",
   "version": "3.6.5"
  }
 },
 "nbformat": 4,
 "nbformat_minor": 2
}
